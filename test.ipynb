{
 "cells": [
  {
   "cell_type": "code",
   "execution_count": 1,
   "metadata": {},
   "outputs": [],
   "source": [
    "import pandas as pd\n",
    "import numpy as np"
   ]
  },
  {
   "cell_type": "code",
   "execution_count": 25,
   "metadata": {},
   "outputs": [],
   "source": [
    "matrix_data = pd.read_csv(\"co-occurrence_matrix.csv\")\n",
    "product = pd.read_csv(\"olist_products_dataset.csv\")"
   ]
  },
  {
   "cell_type": "code",
   "execution_count": 28,
   "metadata": {},
   "outputs": [],
   "source": [
    "product = product[[\"product_id\", \"product_category_name\"]]"
   ]
  },
  {
   "cell_type": "code",
   "execution_count": 21,
   "metadata": {},
   "outputs": [],
   "source": [
    "product_list = matrix_data[\"product_id\"].unique()"
   ]
  },
  {
   "cell_type": "code",
   "execution_count": 32,
   "metadata": {},
   "outputs": [],
   "source": [
    "product_list_df = pd.DataFrame(product_list, columns=[\"product_id\"])"
   ]
  },
  {
   "cell_type": "code",
   "execution_count": 33,
   "metadata": {},
   "outputs": [
    {
     "data": {
      "text/html": [
       "<div>\n",
       "<style scoped>\n",
       "    .dataframe tbody tr th:only-of-type {\n",
       "        vertical-align: middle;\n",
       "    }\n",
       "\n",
       "    .dataframe tbody tr th {\n",
       "        vertical-align: top;\n",
       "    }\n",
       "\n",
       "    .dataframe thead th {\n",
       "        text-align: right;\n",
       "    }\n",
       "</style>\n",
       "<table border=\"1\" class=\"dataframe\">\n",
       "  <thead>\n",
       "    <tr style=\"text-align: right;\">\n",
       "      <th></th>\n",
       "      <th>product_id</th>\n",
       "    </tr>\n",
       "  </thead>\n",
       "  <tbody>\n",
       "    <tr>\n",
       "      <th>0</th>\n",
       "      <td>0011c512eb256aa0dbbb544d8dffcf6e</td>\n",
       "    </tr>\n",
       "    <tr>\n",
       "      <th>1</th>\n",
       "      <td>005030ef108f58b46b78116f754d8d38</td>\n",
       "    </tr>\n",
       "    <tr>\n",
       "      <th>2</th>\n",
       "      <td>007c63ae4b346920756b5adcad8095de</td>\n",
       "    </tr>\n",
       "    <tr>\n",
       "      <th>3</th>\n",
       "      <td>00ba6d766f0b1d7b78a5ce3e1e033263</td>\n",
       "    </tr>\n",
       "    <tr>\n",
       "      <th>4</th>\n",
       "      <td>00faa46f36261af8bbf3a4d37fa4841b</td>\n",
       "    </tr>\n",
       "    <tr>\n",
       "      <th>...</th>\n",
       "      <td>...</td>\n",
       "    </tr>\n",
       "    <tr>\n",
       "      <th>2462</th>\n",
       "      <td>ff7a70b3356d433014b7d6957ed196cb</td>\n",
       "    </tr>\n",
       "    <tr>\n",
       "      <th>2463</th>\n",
       "      <td>ff7c7524d5f9a8386ab27088ec03c1fb</td>\n",
       "    </tr>\n",
       "    <tr>\n",
       "      <th>2464</th>\n",
       "      <td>ff9032482857269e8683f0c2f8ba4709</td>\n",
       "    </tr>\n",
       "    <tr>\n",
       "      <th>2465</th>\n",
       "      <td>ff95ac47246ef13e48712ea1ff8df0d9</td>\n",
       "    </tr>\n",
       "    <tr>\n",
       "      <th>2466</th>\n",
       "      <td>ffe8083298f95571b4a66bfbc1c05524</td>\n",
       "    </tr>\n",
       "  </tbody>\n",
       "</table>\n",
       "<p>2467 rows × 1 columns</p>\n",
       "</div>"
      ],
      "text/plain": [
       "                            product_id\n",
       "0     0011c512eb256aa0dbbb544d8dffcf6e\n",
       "1     005030ef108f58b46b78116f754d8d38\n",
       "2     007c63ae4b346920756b5adcad8095de\n",
       "3     00ba6d766f0b1d7b78a5ce3e1e033263\n",
       "4     00faa46f36261af8bbf3a4d37fa4841b\n",
       "...                                ...\n",
       "2462  ff7a70b3356d433014b7d6957ed196cb\n",
       "2463  ff7c7524d5f9a8386ab27088ec03c1fb\n",
       "2464  ff9032482857269e8683f0c2f8ba4709\n",
       "2465  ff95ac47246ef13e48712ea1ff8df0d9\n",
       "2466  ffe8083298f95571b4a66bfbc1c05524\n",
       "\n",
       "[2467 rows x 1 columns]"
      ]
     },
     "execution_count": 33,
     "metadata": {},
     "output_type": "execute_result"
    }
   ],
   "source": [
    "product_list_df"
   ]
  },
  {
   "cell_type": "code",
   "execution_count": 34,
   "metadata": {},
   "outputs": [],
   "source": [
    "# Merge the df\n",
    "product_category_df = pd.merge(left=product_list_df, right=product, on='product_id')"
   ]
  },
  {
   "cell_type": "code",
   "execution_count": 35,
   "metadata": {},
   "outputs": [
    {
     "data": {
      "text/html": [
       "<div>\n",
       "<style scoped>\n",
       "    .dataframe tbody tr th:only-of-type {\n",
       "        vertical-align: middle;\n",
       "    }\n",
       "\n",
       "    .dataframe tbody tr th {\n",
       "        vertical-align: top;\n",
       "    }\n",
       "\n",
       "    .dataframe thead th {\n",
       "        text-align: right;\n",
       "    }\n",
       "</style>\n",
       "<table border=\"1\" class=\"dataframe\">\n",
       "  <thead>\n",
       "    <tr style=\"text-align: right;\">\n",
       "      <th></th>\n",
       "      <th>product_id</th>\n",
       "      <th>product_category_name</th>\n",
       "    </tr>\n",
       "  </thead>\n",
       "  <tbody>\n",
       "    <tr>\n",
       "      <th>0</th>\n",
       "      <td>0011c512eb256aa0dbbb544d8dffcf6e</td>\n",
       "      <td>automotivo</td>\n",
       "    </tr>\n",
       "    <tr>\n",
       "      <th>1</th>\n",
       "      <td>005030ef108f58b46b78116f754d8d38</td>\n",
       "      <td>perfumaria</td>\n",
       "    </tr>\n",
       "    <tr>\n",
       "      <th>2</th>\n",
       "      <td>007c63ae4b346920756b5adcad8095de</td>\n",
       "      <td>utilidades_domesticas</td>\n",
       "    </tr>\n",
       "    <tr>\n",
       "      <th>3</th>\n",
       "      <td>00ba6d766f0b1d7b78a5ce3e1e033263</td>\n",
       "      <td>utilidades_domesticas</td>\n",
       "    </tr>\n",
       "    <tr>\n",
       "      <th>4</th>\n",
       "      <td>00faa46f36261af8bbf3a4d37fa4841b</td>\n",
       "      <td>fashion_bolsas_e_acessorios</td>\n",
       "    </tr>\n",
       "    <tr>\n",
       "      <th>...</th>\n",
       "      <td>...</td>\n",
       "      <td>...</td>\n",
       "    </tr>\n",
       "    <tr>\n",
       "      <th>2462</th>\n",
       "      <td>ff7a70b3356d433014b7d6957ed196cb</td>\n",
       "      <td>moveis_decoracao</td>\n",
       "    </tr>\n",
       "    <tr>\n",
       "      <th>2463</th>\n",
       "      <td>ff7c7524d5f9a8386ab27088ec03c1fb</td>\n",
       "      <td>cama_mesa_banho</td>\n",
       "    </tr>\n",
       "    <tr>\n",
       "      <th>2464</th>\n",
       "      <td>ff9032482857269e8683f0c2f8ba4709</td>\n",
       "      <td>fashion_bolsas_e_acessorios</td>\n",
       "    </tr>\n",
       "    <tr>\n",
       "      <th>2465</th>\n",
       "      <td>ff95ac47246ef13e48712ea1ff8df0d9</td>\n",
       "      <td>utilidades_domesticas</td>\n",
       "    </tr>\n",
       "    <tr>\n",
       "      <th>2466</th>\n",
       "      <td>ffe8083298f95571b4a66bfbc1c05524</td>\n",
       "      <td>cama_mesa_banho</td>\n",
       "    </tr>\n",
       "  </tbody>\n",
       "</table>\n",
       "<p>2467 rows × 2 columns</p>\n",
       "</div>"
      ],
      "text/plain": [
       "                            product_id        product_category_name\n",
       "0     0011c512eb256aa0dbbb544d8dffcf6e                   automotivo\n",
       "1     005030ef108f58b46b78116f754d8d38                   perfumaria\n",
       "2     007c63ae4b346920756b5adcad8095de        utilidades_domesticas\n",
       "3     00ba6d766f0b1d7b78a5ce3e1e033263        utilidades_domesticas\n",
       "4     00faa46f36261af8bbf3a4d37fa4841b  fashion_bolsas_e_acessorios\n",
       "...                                ...                          ...\n",
       "2462  ff7a70b3356d433014b7d6957ed196cb             moveis_decoracao\n",
       "2463  ff7c7524d5f9a8386ab27088ec03c1fb              cama_mesa_banho\n",
       "2464  ff9032482857269e8683f0c2f8ba4709  fashion_bolsas_e_acessorios\n",
       "2465  ff95ac47246ef13e48712ea1ff8df0d9        utilidades_domesticas\n",
       "2466  ffe8083298f95571b4a66bfbc1c05524              cama_mesa_banho\n",
       "\n",
       "[2467 rows x 2 columns]"
      ]
     },
     "execution_count": 35,
     "metadata": {},
     "output_type": "execute_result"
    }
   ],
   "source": [
    "product_category_df"
   ]
  }
 ],
 "metadata": {
  "kernelspec": {
   "display_name": "Python 3.10.9 ('streamlit')",
   "language": "python",
   "name": "python3"
  },
  "language_info": {
   "codemirror_mode": {
    "name": "ipython",
    "version": 3
   },
   "file_extension": ".py",
   "mimetype": "text/x-python",
   "name": "python",
   "nbconvert_exporter": "python",
   "pygments_lexer": "ipython3",
   "version": "3.10.9"
  },
  "orig_nbformat": 4,
  "vscode": {
   "interpreter": {
    "hash": "243248fa854b0fcb67323d139933535833a1dca64e1cef6c6f54c24a852bc542"
   }
  }
 },
 "nbformat": 4,
 "nbformat_minor": 2
}
